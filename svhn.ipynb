{
  "nbformat": 4,
  "nbformat_minor": 0,
  "metadata": {
    "colab": {
      "name": "svhn",
      "provenance": [],
      "collapsed_sections": [],
      "include_colab_link": true
    },
    "kernelspec": {
      "name": "python3",
      "display_name": "Python 3"
    },
    "accelerator": "GPU"
  },
  "cells": [
    {
      "cell_type": "markdown",
      "metadata": {
        "id": "view-in-github",
        "colab_type": "text"
      },
      "source": [
        "<a href=\"https://colab.research.google.com/github/Tcrista/SVHN/blob/master/svhn.ipynb\" target=\"_parent\"><img src=\"https://colab.research.google.com/assets/colab-badge.svg\" alt=\"Open In Colab\"/></a>"
      ]
    },
    {
      "cell_type": "code",
      "metadata": {
        "id": "FBcx0SPvbT8X",
        "colab_type": "code",
        "outputId": "7d6a84a4-ce1a-47c4-e506-c6eaac68b1f5",
        "colab": {
          "base_uri": "https://localhost:8080/",
          "height": 168
        }
      },
      "source": [
        "import cv2\n",
        "import scipy.io\n",
        "import numpy as np\n",
        "import keras\n",
        "from keras.models import Sequential\n",
        "from keras.layers import Dense, Dropout, Flatten\n",
        "from keras.layers import Conv2D, MaxPooling2D, Activation\n",
        "from keras.layers.normalization import BatchNormalization\n",
        "from keras import backend as K\n",
        "\n",
        "import tensorflow.compat.v1 as tf\n",
        "tf.disable_v2_behavior()\n",
        "\n",
        "from google.colab import drive\n",
        "drive.mount('/content/drive')"
      ],
      "execution_count": 0,
      "outputs": [
        {
          "output_type": "stream",
          "text": [
            "Using TensorFlow backend.\n"
          ],
          "name": "stderr"
        },
        {
          "output_type": "display_data",
          "data": {
            "text/html": [
              "<p style=\"color: red;\">\n",
              "The default version of TensorFlow in Colab will soon switch to TensorFlow 2.x.<br>\n",
              "We recommend you <a href=\"https://www.tensorflow.org/guide/migrate\" target=\"_blank\">upgrade</a> now \n",
              "or ensure your notebook will continue to use TensorFlow 1.x via the <code>%tensorflow_version 1.x</code> magic:\n",
              "<a href=\"https://colab.research.google.com/notebooks/tensorflow_version.ipynb\" target=\"_blank\">more info</a>.</p>\n"
            ],
            "text/plain": [
              "<IPython.core.display.HTML object>"
            ]
          },
          "metadata": {
            "tags": []
          }
        },
        {
          "output_type": "stream",
          "text": [
            "WARNING:tensorflow:From /usr/local/lib/python3.6/dist-packages/tensorflow_core/python/compat/v2_compat.py:68: disable_resource_variables (from tensorflow.python.ops.variable_scope) is deprecated and will be removed in a future version.\n",
            "Instructions for updating:\n",
            "non-resource variables are not supported in the long term\n",
            "Drive already mounted at /content/drive; to attempt to forcibly remount, call drive.mount(\"/content/drive\", force_remount=True).\n"
          ],
          "name": "stdout"
        }
      ]
    },
    {
      "cell_type": "code",
      "metadata": {
        "id": "9TWzbFSbbg1m",
        "colab_type": "code",
        "colab": {}
      },
      "source": [
        "batch_size = 1000\n",
        "num_classes = 10\n",
        "epochs = 25"
      ],
      "execution_count": 0,
      "outputs": []
    },
    {
      "cell_type": "code",
      "metadata": {
        "id": "aNYqqw77lT08",
        "colab_type": "code",
        "colab": {}
      },
      "source": [
        "train = scipy.io.loadmat('/content/drive/My Drive/Colab Notebooks/train_32x32')\n",
        "X_train = train['X']\n",
        "y_train = train['y']\n",
        "\n",
        "test = scipy.io.loadmat('/content/drive/My Drive/Colab Notebooks/test_32x32')\n",
        "X_test = test['X']\n",
        "y_test = test['y']\n",
        "\n",
        "img_rows, img_cols = 32, 32"
      ],
      "execution_count": 0,
      "outputs": []
    },
    {
      "cell_type": "code",
      "metadata": {
        "id": "dLji0q8Mbjyl",
        "colab_type": "code",
        "colab": {}
      },
      "source": [
        "X_train_new = np.empty([img_rows, img_cols, 1, X_train.shape[-1]])\n",
        "for i in range(X_train.shape[-1]):\n",
        "    X_train_new[:,:,:,i] = cv2.cvtColor(X_train[:,:,:,i], cv2.COLOR_BGR2GRAY).reshape(img_rows, img_cols, 1)\n",
        "X_train = X_train_new\n",
        "del X_train_new\n",
        "\n",
        "X_test_new = np.empty([img_rows, img_cols, 1, X_test.shape[-1]])\n",
        "for i in range(X_test.shape[-1]):\n",
        "    X_test_new[:,:,:,i] = cv2.cvtColor(X_test[:,:,:,i], cv2.COLOR_BGR2GRAY).reshape(img_rows, img_cols, 1)\n",
        "X_test = X_test_new\n",
        "del X_test_new"
      ],
      "execution_count": 0,
      "outputs": []
    },
    {
      "cell_type": "code",
      "metadata": {
        "id": "hMT2PoGvc3Fu",
        "colab_type": "code",
        "colab": {}
      },
      "source": [
        "if K.image_data_format() == 'channels_first':\n",
        "    X_train = np.moveaxis(X_train, -1, 0)\n",
        "    X_train = np.moveaxis(X_train, -1, 1)\n",
        "    X_test = np.moveaxis(X_test, -1, 0)\n",
        "    X_test = np.moveaxis(X_test, -1, 1)\n",
        "    input_shape = (1, img_rows, img_cols)\n",
        "else:\n",
        "    X_train = np.moveaxis(X_train, -1, 0)\n",
        "    X_test = np.moveaxis(X_test, -1, 0)\n",
        "    input_shape = (img_rows, img_cols, 1)\n",
        "X_train = X_train.astype('float32')\n",
        "X_test = X_test.astype('float32')"
      ],
      "execution_count": 0,
      "outputs": []
    },
    {
      "cell_type": "code",
      "metadata": {
        "id": "OUazLKEnbkFG",
        "colab_type": "code",
        "colab": {}
      },
      "source": [
        "y_train[y_train == 10] = 0\n",
        "y_test[y_test == 10] = 0"
      ],
      "execution_count": 0,
      "outputs": []
    },
    {
      "cell_type": "code",
      "metadata": {
        "id": "SQi-G54Obt_2",
        "colab_type": "code",
        "colab": {}
      },
      "source": [
        "y_train = keras.utils.to_categorical(y_train, num_classes)\n",
        "y_test = keras.utils.to_categorical(y_test, num_classes)"
      ],
      "execution_count": 0,
      "outputs": []
    },
    {
      "cell_type": "code",
      "metadata": {
        "id": "6uw6nVk3bvx2",
        "colab_type": "code",
        "outputId": "ccf2ec2d-d759-4ff8-e652-59147e3fe905",
        "colab": {
          "base_uri": "https://localhost:8080/",
          "height": 564
        }
      },
      "source": [
        "model = Sequential()\n",
        "model.add(Conv2D(16, kernel_size=5, input_shape=input_shape, padding=\"same\"))\n",
        "model.add(BatchNormalization())\n",
        "model.add(Activation('relu'))\n",
        "\n",
        "model.add(MaxPooling2D(pool_size=2, strides=2))\n",
        "model.add(Dropout(0.3))\n",
        "\n",
        "model.add(Conv2D(32, 5, padding=\"same\"))\n",
        "model.add(BatchNormalization())\n",
        "model.add(Activation('relu'))\n",
        "\n",
        "model.add(MaxPooling2D(pool_size=2, strides=2))\n",
        "model.add(Dropout(0.3))\n",
        "\n",
        "model.add(Conv2D(64, 5, padding=\"same\"))\n",
        "model.add(BatchNormalization())\n",
        "model.add(Activation('relu'))\n",
        "\n",
        "model.add(Flatten())\n",
        "model.add(Dense(512, activation='relu'))\n",
        "model.add(Dropout(0.3))\n",
        "model.add(Dense(num_classes, activation='softmax'))\n",
        "\n",
        "lr = 0.001\n",
        "optimizers = {\"SGD\": keras.optimizers.SGD(lr=lr), \"RMSprop\": keras.optimizers.RMSprop(lr=lr),\n",
        "              \"Adadelta\": keras.optimizers.Adadelta(lr=lr), \"Adam\": keras.optimizers.Adam(lr=lr)}\n",
        "\n",
        "model.compile(loss=keras.losses.categorical_crossentropy,\n",
        "              optimizer=optimizers[\"Adam\"],\n",
        "              metrics=['accuracy'])"
      ],
      "execution_count": 0,
      "outputs": [
        {
          "output_type": "stream",
          "text": [
            "WARNING:tensorflow:From /usr/local/lib/python3.6/dist-packages/keras/backend/tensorflow_backend.py:66: The name tf.get_default_graph is deprecated. Please use tf.compat.v1.get_default_graph instead.\n",
            "\n",
            "WARNING:tensorflow:From /usr/local/lib/python3.6/dist-packages/keras/backend/tensorflow_backend.py:541: The name tf.placeholder is deprecated. Please use tf.compat.v1.placeholder instead.\n",
            "\n",
            "WARNING:tensorflow:From /usr/local/lib/python3.6/dist-packages/keras/backend/tensorflow_backend.py:4432: The name tf.random_uniform is deprecated. Please use tf.random.uniform instead.\n",
            "\n",
            "WARNING:tensorflow:From /usr/local/lib/python3.6/dist-packages/keras/backend/tensorflow_backend.py:190: The name tf.get_default_session is deprecated. Please use tf.compat.v1.get_default_session instead.\n",
            "\n",
            "WARNING:tensorflow:From /usr/local/lib/python3.6/dist-packages/keras/backend/tensorflow_backend.py:197: The name tf.ConfigProto is deprecated. Please use tf.compat.v1.ConfigProto instead.\n",
            "\n",
            "WARNING:tensorflow:From /usr/local/lib/python3.6/dist-packages/keras/backend/tensorflow_backend.py:203: The name tf.Session is deprecated. Please use tf.compat.v1.Session instead.\n",
            "\n",
            "WARNING:tensorflow:From /usr/local/lib/python3.6/dist-packages/keras/backend/tensorflow_backend.py:207: The name tf.global_variables is deprecated. Please use tf.compat.v1.global_variables instead.\n",
            "\n",
            "WARNING:tensorflow:From /usr/local/lib/python3.6/dist-packages/keras/backend/tensorflow_backend.py:216: The name tf.is_variable_initialized is deprecated. Please use tf.compat.v1.is_variable_initialized instead.\n",
            "\n",
            "WARNING:tensorflow:From /usr/local/lib/python3.6/dist-packages/keras/backend/tensorflow_backend.py:223: The name tf.variables_initializer is deprecated. Please use tf.compat.v1.variables_initializer instead.\n",
            "\n",
            "WARNING:tensorflow:From /usr/local/lib/python3.6/dist-packages/keras/backend/tensorflow_backend.py:2041: The name tf.nn.fused_batch_norm is deprecated. Please use tf.compat.v1.nn.fused_batch_norm instead.\n",
            "\n",
            "WARNING:tensorflow:From /usr/local/lib/python3.6/dist-packages/keras/backend/tensorflow_backend.py:148: The name tf.placeholder_with_default is deprecated. Please use tf.compat.v1.placeholder_with_default instead.\n",
            "\n",
            "WARNING:tensorflow:From /usr/local/lib/python3.6/dist-packages/keras/backend/tensorflow_backend.py:4267: The name tf.nn.max_pool is deprecated. Please use tf.nn.max_pool2d instead.\n",
            "\n",
            "WARNING:tensorflow:From /usr/local/lib/python3.6/dist-packages/keras/backend/tensorflow_backend.py:3733: calling dropout (from tensorflow.python.ops.nn_ops) with keep_prob is deprecated and will be removed in a future version.\n",
            "Instructions for updating:\n",
            "Please use `rate` instead of `keep_prob`. Rate should be set to `rate = 1 - keep_prob`.\n",
            "WARNING:tensorflow:From /usr/local/lib/python3.6/dist-packages/keras/optimizers.py:793: The name tf.train.Optimizer is deprecated. Please use tf.compat.v1.train.Optimizer instead.\n",
            "\n",
            "WARNING:tensorflow:From /usr/local/lib/python3.6/dist-packages/keras/backend/tensorflow_backend.py:3576: The name tf.log is deprecated. Please use tf.math.log instead.\n",
            "\n"
          ],
          "name": "stdout"
        }
      ]
    },
    {
      "cell_type": "code",
      "metadata": {
        "id": "2dwR-nFZbziu",
        "colab_type": "code",
        "outputId": "3a0a662e-d32e-427f-9110-5aa661512f7a",
        "colab": {
          "base_uri": "https://localhost:8080/",
          "height": 1000
        }
      },
      "source": [
        "model.fit(X_train, y_train,\n",
        "          batch_size=batch_size,\n",
        "          epochs=epochs,\n",
        "          verbose=1,\n",
        "          validation_data=(X_test, y_test))"
      ],
      "execution_count": 0,
      "outputs": [
        {
          "output_type": "stream",
          "text": [
            "WARNING:tensorflow:From /usr/local/lib/python3.6/dist-packages/tensorflow_core/python/ops/math_grad.py:1424: where (from tensorflow.python.ops.array_ops) is deprecated and will be removed in a future version.\n",
            "Instructions for updating:\n",
            "Use tf.where in 2.0, which has the same broadcast rule as np.where\n",
            "WARNING:tensorflow:From /usr/local/lib/python3.6/dist-packages/keras/backend/tensorflow_backend.py:1033: The name tf.assign_add is deprecated. Please use tf.compat.v1.assign_add instead.\n",
            "\n",
            "WARNING:tensorflow:From /usr/local/lib/python3.6/dist-packages/keras/backend/tensorflow_backend.py:1020: The name tf.assign is deprecated. Please use tf.compat.v1.assign instead.\n",
            "\n",
            "Train on 73257 samples, validate on 26032 samples\n",
            "Epoch 1/25\n",
            "73257/73257 [==============================] - 8s 108us/step - loss: 2.5964 - acc: 0.1689 - val_loss: 2.2161 - val_acc: 0.1942\n",
            "Epoch 2/25\n",
            "73257/73257 [==============================] - 6s 76us/step - loss: 2.1624 - acc: 0.2198 - val_loss: 2.2781 - val_acc: 0.1716\n",
            "Epoch 3/25\n",
            "73257/73257 [==============================] - 6s 76us/step - loss: 1.7055 - acc: 0.4048 - val_loss: 1.5622 - val_acc: 0.4869\n",
            "Epoch 4/25\n",
            "73257/73257 [==============================] - 6s 76us/step - loss: 1.2276 - acc: 0.5912 - val_loss: 1.1600 - val_acc: 0.6091\n",
            "Epoch 5/25\n",
            "73257/73257 [==============================] - 6s 75us/step - loss: 0.8824 - acc: 0.7163 - val_loss: 0.9597 - val_acc: 0.6912\n",
            "Epoch 6/25\n",
            "73257/73257 [==============================] - 6s 75us/step - loss: 0.7253 - acc: 0.7715 - val_loss: 0.7251 - val_acc: 0.7672\n",
            "Epoch 7/25\n",
            "73257/73257 [==============================] - 5s 75us/step - loss: 0.6437 - acc: 0.7984 - val_loss: 0.5653 - val_acc: 0.8273\n",
            "Epoch 8/25\n",
            "73257/73257 [==============================] - 6s 75us/step - loss: 0.5958 - acc: 0.8139 - val_loss: 0.4268 - val_acc: 0.8708\n",
            "Epoch 9/25\n",
            "73257/73257 [==============================] - 6s 75us/step - loss: 0.5572 - acc: 0.8265 - val_loss: 0.3918 - val_acc: 0.8834\n",
            "Epoch 10/25\n",
            "73257/73257 [==============================] - 6s 75us/step - loss: 0.5271 - acc: 0.8373 - val_loss: 0.3782 - val_acc: 0.8886\n",
            "Epoch 11/25\n",
            "73257/73257 [==============================] - 6s 75us/step - loss: 0.4960 - acc: 0.8473 - val_loss: 0.3976 - val_acc: 0.8806\n",
            "Epoch 12/25\n",
            "73257/73257 [==============================] - 6s 76us/step - loss: 0.4740 - acc: 0.8542 - val_loss: 0.3577 - val_acc: 0.8926\n",
            "Epoch 13/25\n",
            "73257/73257 [==============================] - 5s 75us/step - loss: 0.4525 - acc: 0.8606 - val_loss: 0.3493 - val_acc: 0.8973\n",
            "Epoch 14/25\n",
            "73257/73257 [==============================] - 5s 74us/step - loss: 0.4412 - acc: 0.8658 - val_loss: 0.3440 - val_acc: 0.8980\n",
            "Epoch 15/25\n",
            "73257/73257 [==============================] - 5s 75us/step - loss: 0.4265 - acc: 0.8705 - val_loss: 0.3400 - val_acc: 0.8996\n",
            "Epoch 16/25\n",
            "73257/73257 [==============================] - 5s 75us/step - loss: 0.4123 - acc: 0.8741 - val_loss: 0.3184 - val_acc: 0.9077\n",
            "Epoch 17/25\n",
            "73257/73257 [==============================] - 5s 75us/step - loss: 0.4006 - acc: 0.8795 - val_loss: 0.3322 - val_acc: 0.9025\n",
            "Epoch 18/25\n",
            "73257/73257 [==============================] - 5s 75us/step - loss: 0.3874 - acc: 0.8826 - val_loss: 0.3214 - val_acc: 0.9078\n",
            "Epoch 19/25\n",
            "73257/73257 [==============================] - 5s 75us/step - loss: 0.3805 - acc: 0.8845 - val_loss: 0.2979 - val_acc: 0.9150\n",
            "Epoch 20/25\n",
            "73257/73257 [==============================] - 5s 75us/step - loss: 0.3709 - acc: 0.8881 - val_loss: 0.3155 - val_acc: 0.9091\n",
            "Epoch 21/25\n",
            "73257/73257 [==============================] - 5s 75us/step - loss: 0.3639 - acc: 0.8902 - val_loss: 0.3015 - val_acc: 0.9128\n",
            "Epoch 22/25\n",
            "73257/73257 [==============================] - 6s 75us/step - loss: 0.3473 - acc: 0.8951 - val_loss: 0.3091 - val_acc: 0.9096\n",
            "Epoch 23/25\n",
            "73257/73257 [==============================] - 5s 75us/step - loss: 0.3446 - acc: 0.8954 - val_loss: 0.3007 - val_acc: 0.9134\n",
            "Epoch 24/25\n",
            "73257/73257 [==============================] - 5s 75us/step - loss: 0.3385 - acc: 0.8961 - val_loss: 0.3103 - val_acc: 0.9083\n",
            "Epoch 25/25\n",
            "73257/73257 [==============================] - 5s 75us/step - loss: 0.3310 - acc: 0.9006 - val_loss: 0.2979 - val_acc: 0.9137\n"
          ],
          "name": "stdout"
        },
        {
          "output_type": "execute_result",
          "data": {
            "text/plain": [
              "<keras.callbacks.History at 0x7f03c4623908>"
            ]
          },
          "metadata": {
            "tags": []
          },
          "execution_count": 9
        }
      ]
    },
    {
      "cell_type": "code",
      "metadata": {
        "id": "jG-8huvOb2CN",
        "colab_type": "code",
        "outputId": "abe83ed8-0319-4e74-c4c1-76a1f6820795",
        "colab": {
          "base_uri": "https://localhost:8080/",
          "height": 51
        }
      },
      "source": [
        "score = model.evaluate(X_test, y_test, verbose=0)\n",
        "print('Test loss:', score[0])\n",
        "print('Test accuracy:', score[1])"
      ],
      "execution_count": 0,
      "outputs": [
        {
          "output_type": "stream",
          "text": [
            "Test loss: 0.2978749904912091\n",
            "Test accuracy: 0.9137215734480639\n"
          ],
          "name": "stdout"
        }
      ]
    }
  ]
}